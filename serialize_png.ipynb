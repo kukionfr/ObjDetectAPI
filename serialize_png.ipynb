{
 "cells": [
  {
   "cell_type": "code",
   "execution_count": null,
   "metadata": {
    "collapsed": true
   },
   "outputs": [],
   "source": [
    "from PIL import Image\n",
    "import os\n",
    "dir=r'C:\\Users\\kuki\\Desktop\\Research\\Skin\\RCNN data\\young\\sec030\\label'\n",
    "fn='2.jpg'\n",
    "mask = Image.open(os.path.join(dir,fn))\n",
    "xy = list(map(tuple, polygons))\n",
    "draw = ImageDraw.Draw(mask)\n",
    "draw.polygon(xy=xy, outline=1, fill=1)\n",
    "imgByteArr = io.BytesIO()\n",
    "mask.save(imgByteArr, format='PNG')\n",
    "imgByteArr = imgByteArr.getvalue()\n",
    "\n"
   ]
  }
 ],
 "metadata": {
  "kernelspec": {
   "display_name": "Python 3",
   "language": "python",
   "name": "python3"
  },
  "language_info": {
   "codemirror_mode": {
    "name": "ipython",
    "version": 2
   },
   "file_extension": ".py",
   "mimetype": "text/x-python",
   "name": "python",
   "nbconvert_exporter": "python",
   "pygments_lexer": "ipython2",
   "version": "2.7.6"
  }
 },
 "nbformat": 4,
 "nbformat_minor": 0
}